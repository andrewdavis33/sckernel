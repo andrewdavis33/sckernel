{
 "cells": [
  {
   "cell_type": "markdown",
   "metadata": {},
   "source": [
    "# Jupyter Notebook with sckernel Demo"
   ]
  },
  {
   "cell_type": "markdown",
   "metadata": {},
   "source": [
    "The following short notebook demonstrates a few of the features of integrating SuperCollider with Jupyter Notebook."
   ]
  },
  {
   "cell_type": "markdown",
   "metadata": {},
   "source": [
    "## 1. SuperCollider as a Calculator\n",
    "The following expressions can be evaluated by SuperCollider just like a calculator.  Most of your intuitions about the following code apply.  To see the output of the code, check the post window that was automatically started at the startup of this notebook."
   ]
  },
  {
   "cell_type": "code",
   "execution_count": 4,
   "metadata": {},
   "outputs": [
    {
     "name": "stdout",
     "output_type": "stream",
     "text": []
    }
   ],
   "source": [
    "3 + 4"
   ]
  },
  {
   "cell_type": "code",
   "execution_count": 2,
   "metadata": {},
   "outputs": [
    {
     "name": "stdout",
     "output_type": "stream",
     "text": []
    }
   ],
   "source": [
    "3 / 2"
   ]
  },
  {
   "cell_type": "code",
   "execution_count": 3,
   "metadata": {},
   "outputs": [
    {
     "name": "stdout",
     "output_type": "stream",
     "text": []
    }
   ],
   "source": [
    "2.5 * 1"
   ]
  },
  {
   "cell_type": "markdown",
   "metadata": {},
   "source": [
    "## 2. AM Modulation\n",
    "\n",
    "First start up the SuperCollider audio server."
   ]
  },
  {
   "cell_type": "code",
   "execution_count": 5,
   "metadata": {},
   "outputs": [
    {
     "name": "stdout",
     "output_type": "stream",
     "text": []
    }
   ],
   "source": [
    "s.boot; // Wait for the server to boot up"
   ]
  },
  {
   "cell_type": "markdown",
   "metadata": {},
   "source": [
    "I can write equations and then test out what those sound like in SuperCollider.  Jupyter Notebook's can display nicely formatted mathematical equations which is useful when teaching digital signal processing.\n",
    "\n",
    "$$A_1\\sin(2\\pi f_1t + \\phi_1)A_2\\sin(2\\pi f_2t + \\phi_2)$$"
   ]
  },
  {
   "cell_type": "code",
   "execution_count": 6,
   "metadata": {},
   "outputs": [
    {
     "name": "stdout",
     "output_type": "stream",
     "text": []
    }
   ],
   "source": [
    "// A SuperCollider implementation of the above equation\n",
    "\n",
    "SynthDef(\\am, {\n",
    "    arg a1 = 0.1, f1 = 100, p1 = 0, a2 = 0.1, f2 = 200, p2 = 0;\n",
    "    var sig;\n",
    "    \n",
    "    sig = SinOsc.ar(f1, p1, a1) * SinOsc.ar(f2, p2, a2);\n",
    "    Out.ar(0, sig ! 2)\n",
    "}).add;"
   ]
  },
  {
   "cell_type": "markdown",
   "metadata": {},
   "source": [
    "Play the AM modulation."
   ]
  },
  {
   "cell_type": "code",
   "execution_count": 7,
   "metadata": {},
   "outputs": [
    {
     "name": "stdout",
     "output_type": "stream",
     "text": []
    }
   ],
   "source": [
    "x = Synth(\\am)"
   ]
  },
  {
   "cell_type": "markdown",
   "metadata": {},
   "source": [
    "I can also still bring up windows from SuperCollider which are useful when diagnosing sound.  The frequency scope shows two sine waves at 200Hz and 600Hz."
   ]
  },
  {
   "cell_type": "code",
   "execution_count": 8,
   "metadata": {},
   "outputs": [
    {
     "name": "stdout",
     "output_type": "stream",
     "text": []
    }
   ],
   "source": [
    "FreqScope.new"
   ]
  },
  {
   "cell_type": "markdown",
   "metadata": {},
   "source": [
    "Free the sound to stop the audio from playing."
   ]
  },
  {
   "cell_type": "code",
   "execution_count": 9,
   "metadata": {},
   "outputs": [
    {
     "name": "stdout",
     "output_type": "stream",
     "text": []
    }
   ],
   "source": [
    "x.free"
   ]
  },
  {
   "cell_type": "markdown",
   "metadata": {},
   "source": [
    "## 3. One Sample Delay\n",
    "\n",
    "The following chart shows the magnitude and phase response of a filter with the difference equation: $x[n] + x[n - 1]$."
   ]
  },
  {
   "cell_type": "markdown",
   "metadata": {},
   "source": [
    "<img src=\"mag_resp.png\" width=\"400\"/>\n"
   ]
  },
  {
   "cell_type": "markdown",
   "metadata": {},
   "source": [
    "Here is the code to implement a one sample delay filter in SuperCollider."
   ]
  },
  {
   "cell_type": "code",
   "execution_count": 12,
   "metadata": {},
   "outputs": [
    {
     "name": "stdout",
     "output_type": "stream",
     "text": []
    }
   ],
   "source": [
    "SynthDef(\\oneSampleDelay, {\n",
    "    arg out = 0, in;\n",
    "    var sig = In.ar(in, 1);\n",
    "    sig = sig + Delay1.ar(sig);\n",
    "    Out.ar(out, sig);\n",
    "}).add;"
   ]
  },
  {
   "cell_type": "markdown",
   "metadata": {},
   "source": [
    "One-sample delays make poor filters but are simple to implement and understand."
   ]
  }
 ],
 "metadata": {
  "kernelspec": {
   "display_name": "SC_Kernel",
   "language": "text",
   "name": "sckernel"
  },
  "language_info": {
   "codemirror_mode": "smalltalk",
   "mimetype": "text",
   "name": "sclang"
  }
 },
 "nbformat": 4,
 "nbformat_minor": 4
}
